{
 "cells": [
  {
   "cell_type": "markdown",
   "metadata": {},
   "source": [
    "# `GCDM-SBDD` Tutorial, Part 1 - Generating Molecules in Target Protein Pockets"
   ]
  },
  {
   "cell_type": "markdown",
   "metadata": {},
   "source": [
    "## Overview\n",
    "\n",
    "`GCDM-SBDD` provides a flexible means of sampling new 3D molecules for unseen protein pockets of interest. As an illustrative real-world example, one can do so using the following 3-step procedure:\n",
    "\n",
    "1. Download a target protein of interest from the [Protein Data Bank](https://www.rcsb.org) (e.g., [`4OZ2`](https://www.rcsb.org/structure/4OZ2)) as an uncompressed PDB file (e.g., via `wget https://files.rcsb.org/download/4OZ2.pdb1.gz && gunzip 4OZ2.pdb1.gz && mv 4OZ2.pdb1 4OZ2.pdb`). Note that, in this context, the first assembly of each complex should always be preferred for downloads (e.g., `pdb1` or `assembly1`). Ideally, one's target protein complex should also contain at least one \"reference\" ligand molecule (i.e., residue) within the complex, which will later be referenced to specify a \"reference\" binding pocket for the new molecules to generate.\n",
    "2. Create an `experiments` directory and, within it, a subdirectory named according to your target protein-ligand-complex (e.g., `4OZ2_1Z6_07_25_2024_12_00_00`). Store your downloaded files for this target within this subdirectory. Also create the desired output directory via `mkdir -p experiments/4OZ2_1Z6_07_25_2024_12_00_00/outputs_07_25_2024_12_00_00/`.\n",
    "3. To generate a batch of 3D molecules for a specied binding site within `4OZ2` (e.g., that of ligand `1Z6`), with the `GCDM-SBDD` Conda environment activated, run the command `python3 generate_ligands.py checkpoints/bindingmoad_ca_cond_gcpnet.ckpt --pdbfile experiments/4OZ2_1Z6_07_25_2024_12_00_00/4OZ2.pdb --outdir experiments/4OZ2_1Z6_07_25_2024_12_00_00/outputs_07_25_2024_12_00_00/ --ref_ligand A:501 --n_samples 500 --num_nodes_lig 13 --sanitize --relax`.\n",
    "\n",
    "The output directory `experiments/4OZ2_1Z6_07_25_2024_12_00_00/outputs_07_25_2024_12_00_00/` should now be populated with approximately 450 3D molecules after (on average) 50 are automatically invalidated by the RDKit sanitization and relaxation steps enabled in the generation command above. For an example of how to further filter these generated molecules using the [`PoseBusters` software suite](https://github.com/maabuu/posebusters), please see [Part 2](https://github.com/BioinfoMachineLearning/GCDM-SBDD/blob/main/notebooks/molecule_filtering_with_posebusters.ipynb) of this tutorial series."
   ]
  },
  {
   "cell_type": "markdown",
   "metadata": {},
   "source": [
    "## Wrapping up\n",
    "\n",
    "Have any additional questions about generating new 3D molecules in target protein pockets using `GCDM-SBDD`? [Create a new issue](https://github.com/BioinfoMachineLearning/GCDM-SBDD/issues/new/choose) on our [GitHub repository](https://github.com/BioinfoMachineLearning/GCDM-SBDD). We would be happy to work with you."
   ]
  }
 ],
 "metadata": {
  "kernelspec": {
   "display_name": "PoseBench",
   "language": "python",
   "name": "python3"
  },
  "language_info": {
   "codemirror_mode": {
    "name": "ipython",
    "version": 3
   },
   "file_extension": ".py",
   "mimetype": "text/x-python",
   "name": "python",
   "nbconvert_exporter": "python",
   "pygments_lexer": "ipython3",
   "version": "3.9.17"
  }
 },
 "nbformat": 4,
 "nbformat_minor": 2
}
